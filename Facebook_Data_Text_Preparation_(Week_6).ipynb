{
  "nbformat": 4,
  "nbformat_minor": 0,
  "metadata": {
    "colab": {
      "name": "Facebook Data Text Preparation (Week 6)",
      "provenance": [],
      "authorship_tag": "ABX9TyOkeyJTbqivV4qKn1ZNYsw5",
      "include_colab_link": true
    },
    "kernelspec": {
      "name": "python3",
      "display_name": "Python 3"
    },
    "language_info": {
      "name": "python"
    }
  },
  "cells": [
    {
      "cell_type": "markdown",
      "metadata": {
        "id": "view-in-github",
        "colab_type": "text"
      },
      "source": [
        "<a href=\"https://colab.research.google.com/github/muziejus/activitybot/blob/master/Facebook_Data_Text_Preparation_(Week_6).ipynb\" target=\"_parent\"><img src=\"https://colab.research.google.com/assets/colab-badge.svg\" alt=\"Open In Colab\"/></a>"
      ]
    },
    {
      "cell_type": "markdown",
      "metadata": {
        "id": "HdQe_5l1qu8A"
      },
      "source": [
        "# Facebook Data Text Preparation (Week 6)\n",
        "\n",
        "Still turning over the reins to the group as a whole, this week we will put the Facebook data into a pipeline.\n"
      ]
    },
    {
      "cell_type": "code",
      "metadata": {
        "id": "tkDaEqBKqqjE",
        "outputId": "6994bb3a-1b5b-4eee-a355-fcd762a11d0f",
        "colab": {
          "base_uri": "https://localhost:8080/"
        }
      },
      "source": [
        "# If Colab doesn't have Textacy installed:\n",
        "!pip install textacy\n",
        "\n",
        "# Import common libraries\n",
        "import pandas as pd\n",
        "import numpy as np\n",
        "import os\n",
        "import pprint as pp\n",
        "import re\n",
        "import textacy.preprocessing as tprep\n",
        "import unicodedata\n",
        "import spacy\n",
        "\n",
        "# if you get an error regarding no module found \"textacy,\" make sure the \n",
        "# second line of this cell is uncommented (begins with \"!\")"
      ],
      "execution_count": 2,
      "outputs": [
        {
          "output_type": "stream",
          "text": [
            "Collecting textacy\n",
            "  Downloading textacy-0.11.0-py3-none-any.whl (200 kB)\n",
            "\u001b[?25l\r\u001b[K     |█▋                              | 10 kB 13.1 MB/s eta 0:00:01\r\u001b[K     |███▎                            | 20 kB 16.9 MB/s eta 0:00:01\r\u001b[K     |█████                           | 30 kB 18.3 MB/s eta 0:00:01\r\u001b[K     |██████▌                         | 40 kB 11.5 MB/s eta 0:00:01\r\u001b[K     |████████▏                       | 51 kB 4.8 MB/s eta 0:00:01\r\u001b[K     |█████████▉                      | 61 kB 4.8 MB/s eta 0:00:01\r\u001b[K     |███████████▌                    | 71 kB 5.3 MB/s eta 0:00:01\r\u001b[K     |█████████████                   | 81 kB 5.4 MB/s eta 0:00:01\r\u001b[K     |██████████████▊                 | 92 kB 5.5 MB/s eta 0:00:01\r\u001b[K     |████████████████▍               | 102 kB 5.5 MB/s eta 0:00:01\r\u001b[K     |██████████████████              | 112 kB 5.5 MB/s eta 0:00:01\r\u001b[K     |███████████████████▋            | 122 kB 5.5 MB/s eta 0:00:01\r\u001b[K     |█████████████████████▎          | 133 kB 5.5 MB/s eta 0:00:01\r\u001b[K     |███████████████████████         | 143 kB 5.5 MB/s eta 0:00:01\r\u001b[K     |████████████████████████▌       | 153 kB 5.5 MB/s eta 0:00:01\r\u001b[K     |██████████████████████████▏     | 163 kB 5.5 MB/s eta 0:00:01\r\u001b[K     |███████████████████████████▉    | 174 kB 5.5 MB/s eta 0:00:01\r\u001b[K     |█████████████████████████████▍  | 184 kB 5.5 MB/s eta 0:00:01\r\u001b[K     |███████████████████████████████ | 194 kB 5.5 MB/s eta 0:00:01\r\u001b[K     |████████████████████████████████| 200 kB 5.5 MB/s \n",
            "\u001b[?25hRequirement already satisfied: tqdm>=4.19.6 in /usr/local/lib/python3.7/dist-packages (from textacy) (4.41.1)\n",
            "Requirement already satisfied: joblib>=0.13.0 in /usr/local/lib/python3.7/dist-packages (from textacy) (1.0.1)\n",
            "Collecting jellyfish>=0.8.0\n",
            "  Downloading jellyfish-0.8.2-cp37-cp37m-manylinux2014_x86_64.whl (90 kB)\n",
            "\u001b[K     |████████████████████████████████| 90 kB 7.3 MB/s \n",
            "\u001b[?25hRequirement already satisfied: scikit-learn>=0.19.0 in /usr/local/lib/python3.7/dist-packages (from textacy) (0.22.2.post1)\n",
            "Requirement already satisfied: networkx>=2.0 in /usr/local/lib/python3.7/dist-packages (from textacy) (2.5.1)\n",
            "Collecting cytoolz>=0.10.1\n",
            "  Downloading cytoolz-0.11.0.tar.gz (477 kB)\n",
            "\u001b[K     |████████████████████████████████| 477 kB 36.8 MB/s \n",
            "\u001b[?25hRequirement already satisfied: scipy>=0.17.0 in /usr/local/lib/python3.7/dist-packages (from textacy) (1.4.1)\n",
            "Requirement already satisfied: requests>=2.10.0 in /usr/local/lib/python3.7/dist-packages (from textacy) (2.23.0)\n",
            "Requirement already satisfied: cachetools>=4.0.0 in /usr/local/lib/python3.7/dist-packages (from textacy) (4.2.2)\n",
            "Collecting spacy>=3.0.0\n",
            "  Downloading spacy-3.1.1-cp37-cp37m-manylinux_2_17_x86_64.manylinux2014_x86_64.whl (6.4 MB)\n",
            "\u001b[K     |████████████████████████████████| 6.4 MB 24.9 MB/s \n",
            "\u001b[?25hCollecting pyphen>=0.10.0\n",
            "  Downloading pyphen-0.11.0-py3-none-any.whl (2.0 MB)\n",
            "\u001b[K     |████████████████████████████████| 2.0 MB 54.7 MB/s \n",
            "\u001b[?25hRequirement already satisfied: numpy>=1.17.0 in /usr/local/lib/python3.7/dist-packages (from textacy) (1.19.5)\n",
            "Requirement already satisfied: toolz>=0.8.0 in /usr/local/lib/python3.7/dist-packages (from cytoolz>=0.10.1->textacy) (0.11.1)\n",
            "Requirement already satisfied: decorator<5,>=4.3 in /usr/local/lib/python3.7/dist-packages (from networkx>=2.0->textacy) (4.4.2)\n",
            "Requirement already satisfied: chardet<4,>=3.0.2 in /usr/local/lib/python3.7/dist-packages (from requests>=2.10.0->textacy) (3.0.4)\n",
            "Requirement already satisfied: urllib3!=1.25.0,!=1.25.1,<1.26,>=1.21.1 in /usr/local/lib/python3.7/dist-packages (from requests>=2.10.0->textacy) (1.24.3)\n",
            "Requirement already satisfied: idna<3,>=2.5 in /usr/local/lib/python3.7/dist-packages (from requests>=2.10.0->textacy) (2.10)\n",
            "Requirement already satisfied: certifi>=2017.4.17 in /usr/local/lib/python3.7/dist-packages (from requests>=2.10.0->textacy) (2021.5.30)\n",
            "Requirement already satisfied: packaging>=20.0 in /usr/local/lib/python3.7/dist-packages (from spacy>=3.0.0->textacy) (21.0)\n",
            "Collecting typer<0.4.0,>=0.3.0\n",
            "  Downloading typer-0.3.2-py3-none-any.whl (21 kB)\n",
            "Collecting pathy>=0.3.5\n",
            "  Downloading pathy-0.6.0-py3-none-any.whl (42 kB)\n",
            "\u001b[K     |████████████████████████████████| 42 kB 1.4 MB/s \n",
            "\u001b[?25hRequirement already satisfied: typing-extensions<4.0.0.0,>=3.7.4 in /usr/local/lib/python3.7/dist-packages (from spacy>=3.0.0->textacy) (3.7.4.3)\n",
            "Requirement already satisfied: blis<0.8.0,>=0.4.0 in /usr/local/lib/python3.7/dist-packages (from spacy>=3.0.0->textacy) (0.4.1)\n",
            "Requirement already satisfied: wasabi<1.1.0,>=0.8.1 in /usr/local/lib/python3.7/dist-packages (from spacy>=3.0.0->textacy) (0.8.2)\n",
            "Collecting srsly<3.0.0,>=2.4.1\n",
            "  Downloading srsly-2.4.1-cp37-cp37m-manylinux2014_x86_64.whl (456 kB)\n",
            "\u001b[K     |████████████████████████████████| 456 kB 69.7 MB/s \n",
            "\u001b[?25hRequirement already satisfied: murmurhash<1.1.0,>=0.28.0 in /usr/local/lib/python3.7/dist-packages (from spacy>=3.0.0->textacy) (1.0.5)\n",
            "Collecting catalogue<2.1.0,>=2.0.4\n",
            "  Downloading catalogue-2.0.4-py3-none-any.whl (16 kB)\n",
            "Requirement already satisfied: setuptools in /usr/local/lib/python3.7/dist-packages (from spacy>=3.0.0->textacy) (57.2.0)\n",
            "Requirement already satisfied: preshed<3.1.0,>=3.0.2 in /usr/local/lib/python3.7/dist-packages (from spacy>=3.0.0->textacy) (3.0.5)\n",
            "Requirement already satisfied: cymem<2.1.0,>=2.0.2 in /usr/local/lib/python3.7/dist-packages (from spacy>=3.0.0->textacy) (2.0.5)\n",
            "Collecting thinc<8.1.0,>=8.0.8\n",
            "  Downloading thinc-8.0.8-cp37-cp37m-manylinux_2_17_x86_64.manylinux2014_x86_64.whl (621 kB)\n",
            "\u001b[K     |████████████████████████████████| 621 kB 48.5 MB/s \n",
            "\u001b[?25hCollecting spacy-legacy<3.1.0,>=3.0.7\n",
            "  Downloading spacy_legacy-3.0.8-py2.py3-none-any.whl (14 kB)\n",
            "Requirement already satisfied: jinja2 in /usr/local/lib/python3.7/dist-packages (from spacy>=3.0.0->textacy) (2.11.3)\n",
            "Collecting pydantic!=1.8,!=1.8.1,<1.9.0,>=1.7.4\n",
            "  Downloading pydantic-1.8.2-cp37-cp37m-manylinux2014_x86_64.whl (10.1 MB)\n",
            "\u001b[K     |████████████████████████████████| 10.1 MB 40.7 MB/s \n",
            "\u001b[?25hRequirement already satisfied: zipp>=0.5 in /usr/local/lib/python3.7/dist-packages (from catalogue<2.1.0,>=2.0.4->spacy>=3.0.0->textacy) (3.5.0)\n",
            "Requirement already satisfied: pyparsing>=2.0.2 in /usr/local/lib/python3.7/dist-packages (from packaging>=20.0->spacy>=3.0.0->textacy) (2.4.7)\n",
            "Requirement already satisfied: smart-open<6.0.0,>=5.0.0 in /usr/local/lib/python3.7/dist-packages (from pathy>=0.3.5->spacy>=3.0.0->textacy) (5.1.0)\n",
            "Requirement already satisfied: click<7.2.0,>=7.1.1 in /usr/local/lib/python3.7/dist-packages (from typer<0.4.0,>=0.3.0->spacy>=3.0.0->textacy) (7.1.2)\n",
            "Requirement already satisfied: MarkupSafe>=0.23 in /usr/local/lib/python3.7/dist-packages (from jinja2->spacy>=3.0.0->textacy) (2.0.1)\n",
            "Building wheels for collected packages: cytoolz\n",
            "  Building wheel for cytoolz (setup.py) ... \u001b[?25l\u001b[?25hdone\n",
            "  Created wheel for cytoolz: filename=cytoolz-0.11.0-cp37-cp37m-linux_x86_64.whl size=1224743 sha256=d1d595dd23f9405b3135a9df0dba91d32681b7a30b7edbaa2f69793bbc2c7c75\n",
            "  Stored in directory: /root/.cache/pip/wheels/a1/aa/85/7dc0547cad8c535a1c4e55c638f6e2d3de45401dd634bff0a2\n",
            "Successfully built cytoolz\n",
            "Installing collected packages: catalogue, typer, srsly, pydantic, thinc, spacy-legacy, pathy, spacy, pyphen, jellyfish, cytoolz, textacy\n",
            "  Attempting uninstall: catalogue\n",
            "    Found existing installation: catalogue 1.0.0\n",
            "    Uninstalling catalogue-1.0.0:\n",
            "      Successfully uninstalled catalogue-1.0.0\n",
            "  Attempting uninstall: srsly\n",
            "    Found existing installation: srsly 1.0.5\n",
            "    Uninstalling srsly-1.0.5:\n",
            "      Successfully uninstalled srsly-1.0.5\n",
            "  Attempting uninstall: thinc\n",
            "    Found existing installation: thinc 7.4.0\n",
            "    Uninstalling thinc-7.4.0:\n",
            "      Successfully uninstalled thinc-7.4.0\n",
            "  Attempting uninstall: spacy\n",
            "    Found existing installation: spacy 2.2.4\n",
            "    Uninstalling spacy-2.2.4:\n",
            "      Successfully uninstalled spacy-2.2.4\n",
            "Successfully installed catalogue-2.0.4 cytoolz-0.11.0 jellyfish-0.8.2 pathy-0.6.0 pydantic-1.8.2 pyphen-0.11.0 spacy-3.1.1 spacy-legacy-3.0.8 srsly-2.4.1 textacy-0.11.0 thinc-8.0.8 typer-0.3.2\n"
          ],
          "name": "stdout"
        }
      ]
    },
    {
      "cell_type": "code",
      "metadata": {
        "colab": {
          "base_uri": "https://localhost:8080/"
        },
        "id": "RhQw4aiBrLaq",
        "outputId": "f252bc7f-c963-4fd8-e237-b854be3e94b2"
      },
      "source": [
        "# Import data files from GitHub\n",
        "\n",
        "# Set remote (GitHub) and local paths for the data files\n",
        "GITHUB_ROOT = \"https://raw.githubusercontent.com/vaccine-lang/facebook-data/main\"\n",
        "BASE_DIR = \"/\"\n",
        "print(f'Files will be downloaded from \"{GITHUB_ROOT}\"')\n",
        "print(f'Files will be downloaded to \"{BASE_DIR}\".')\n",
        "\n",
        "# Download each file\n",
        "file_names = [\"groups-1\", \"groups-2\", \"pages-1\", \"pages-2\"]\n",
        "print(\"Downloading data\")\n",
        "for name in file_names:\n",
        "  cmd = \" \".join(['wget', '-P', os.path.dirname(BASE_DIR + name + \".csv\"), GITHUB_ROOT + \"/data/biased-\" + name + \".csv\"])\n",
        "  print(\"!\"+cmd)\n",
        "  if os.system(cmd) != 0:\n",
        "    print('  ~~> ERROR')\n",
        "\n",
        "# Convert the CSVs into Data Frames\n",
        "\n",
        "data = {}\n",
        "for name in file_names:\n",
        "  posts_file = \"biased-\" + name + \".csv\"\n",
        "  print(posts_file)\n",
        "  data[name] = pd.read_csv(posts_file)"
      ],
      "execution_count": 3,
      "outputs": [
        {
          "output_type": "stream",
          "text": [
            "Files will be downloaded from \"https://raw.githubusercontent.com/vaccine-lang/facebook-data/main\"\n",
            "Files will be downloaded to \"/\".\n",
            "Downloading data\n",
            "!wget -P / https://raw.githubusercontent.com/vaccine-lang/facebook-data/main/data/biased-groups-1.csv\n",
            "!wget -P / https://raw.githubusercontent.com/vaccine-lang/facebook-data/main/data/biased-groups-2.csv\n",
            "!wget -P / https://raw.githubusercontent.com/vaccine-lang/facebook-data/main/data/biased-pages-1.csv\n",
            "!wget -P / https://raw.githubusercontent.com/vaccine-lang/facebook-data/main/data/biased-pages-2.csv\n",
            "biased-groups-1.csv\n"
          ],
          "name": "stdout"
        },
        {
          "output_type": "stream",
          "text": [
            "/usr/local/lib/python3.7/dist-packages/IPython/core/interactiveshell.py:2718: DtypeWarning: Columns (13) have mixed types.Specify dtype option on import or set low_memory=False.\n",
            "  interactivity=interactivity, compiler=compiler, result=result)\n"
          ],
          "name": "stderr"
        },
        {
          "output_type": "stream",
          "text": [
            "biased-groups-2.csv\n",
            "biased-pages-1.csv\n",
            "biased-pages-2.csv\n"
          ],
          "name": "stdout"
        },
        {
          "output_type": "stream",
          "text": [
            "/usr/local/lib/python3.7/dist-packages/IPython/core/interactiveshell.py:2718: DtypeWarning: Columns (13,37,38,39) have mixed types.Specify dtype option on import or set low_memory=False.\n",
            "  interactivity=interactivity, compiler=compiler, result=result)\n"
          ],
          "name": "stderr"
        }
      ]
    },
    {
      "cell_type": "markdown",
      "metadata": {
        "id": "mKnOOAOtsBBT"
      },
      "source": [
        "## Reshape Data\n",
        "\n",
        "The Facebook data is separated into four files, two each for pages and groups. We only want one file, however. \n",
        "\n",
        "Also, we don't care about the extraneous data. We only want text. However, initial exploratory data analysis (see previous Colab) indicated that there is no consistent field for the text of what was shared to Facebook. Instead, there seem to be four fields, `Message`, `Image Text`, `Link Text`, and `Description`, that carry content that may interest us.\n",
        "\n",
        "Let's reduce each data frame to just those four fields and then merge (concatenate) them together."
      ]
    },
    {
      "cell_type": "code",
      "metadata": {
        "id": "TK4zfW7I1E0g",
        "outputId": "0754be5d-1040-4e2d-e21c-2c5cb44708ec",
        "colab": {
          "base_uri": "https://localhost:8080/"
        }
      },
      "source": [
        "data[\"groups-1\"][\"Message\"].head(20)"
      ],
      "execution_count": 7,
      "outputs": [
        {
          "output_type": "execute_result",
          "data": {
            "text/plain": [
              "0     #ATTENTION Federal Election is Coming #QUESTIO...\n",
              "1     Doctors & Nurses are disregarding sound medica...\n",
              "2                                                     🤬\n",
              "3                                                   NaN\n",
              "4                                                   NaN\n",
              "5                                                    ✊🏻\n",
              "6     Hello, sorry if that question was before. My d...\n",
              "7     any evidence anyone please that the covid vax ...\n",
              "8                                                   NaN\n",
              "9                                                   NaN\n",
              "10    Has anyone had twitching muscles? ive had this...\n",
              "11    Hi. A close friend of mine is suffering with d...\n",
              "12                                         Stye? Ideas?\n",
              "13    Heyah looking for some advice. I came into clo...\n",
              "14    Is it a common thing to have mottled skin afte...\n",
              "15                                                  NaN\n",
              "16                                                  NaN\n",
              "17    Messaged by a friend: https://www.bitchute.com...\n",
              "18    Please share this bill and send your message t...\n",
              "19    Morning all! Could someone please help me with...\n",
              "Name: Message, dtype: object"
            ]
          },
          "metadata": {
            "tags": []
          },
          "execution_count": 7
        }
      ]
    },
    {
      "cell_type": "code",
      "metadata": {
        "id": "mLIbnkyorOmK"
      },
      "source": [
        "interesting_columns = [\"Message\", \"Image Text\", \"Link Text\", \"Description\"]\n",
        "\n",
        "df = pd.concat([data[key][interesting_columns] for key in file_names], ignore_index=True)\n",
        "\n",
        "# Let's rename the columns.\n",
        "new_columns = [\"message\", \"imageText\", \"linkText\", \"linkDescription\"]\n",
        "df.columns = new_columns\n",
        "\n",
        "# Since NaN is type \"float\", which won't work in the join below,\n",
        "# let's convert all the NaNs to \"\".\n",
        "df.fillna(\"\", inplace=True)\n",
        "\n",
        "# and let's concatenate the columns into a new column, \n",
        "# so we capture all of the data as a single text object.\n",
        "df[\"text\"] = df.apply(lambda row: \" \".join([row[column] for column in new_columns]), axis=1)"
      ],
      "execution_count": 5,
      "outputs": []
    },
    {
      "cell_type": "markdown",
      "metadata": {
        "id": "HJLuPUW9Aycz"
      },
      "source": [
        "## Text \"Cleaning\"\n",
        "\n",
        "Now that all of the text for the entire corpus is in one dataframe (and one column, to boot), we can start \"cleaning\" the text following the graphic on page 90. This involves:\n",
        "\n",
        "* identifying noise\n",
        "* removing noise\n",
        "* normalizing characters\n",
        "* masking data"
      ]
    },
    {
      "cell_type": "markdown",
      "metadata": {
        "id": "RPG9AjH9BhtJ"
      },
      "source": [
        "### Identifying Noise\n",
        "\n",
        "Let's use the `impurity` function from the book to get a sense of how \"impure\" the each message is."
      ]
    },
    {
      "cell_type": "code",
      "metadata": {
        "colab": {
          "base_uri": "https://localhost:8080/",
          "height": 283
        },
        "id": "63ppIZ43wEO0",
        "outputId": "775ddf17-6781-4a51-b6e7-44d2e937c3cf"
      },
      "source": [
        "RE_SUSPICIOUS = re.compile(r'[&#<>\\[\\]\\\\]')\n",
        "\n",
        "def impurity(text, min_len=10):\n",
        "  \"\"\"returns the share of suspicious characters in a text\"\"\"\n",
        "  if text == None or len(text) < min_len:\n",
        "    return 0\n",
        "  else:\n",
        "    return len(RE_SUSPICIOUS.findall(text))/len(text)\n",
        "\n",
        "df[\"impurity\"] = df[\"text\"].apply(impurity, min_len=50)\n",
        "df[\"impurity\"].hist()"
      ],
      "execution_count": 13,
      "outputs": [
        {
          "output_type": "execute_result",
          "data": {
            "text/plain": [
              "<matplotlib.axes._subplots.AxesSubplot at 0x7f871a1fbe90>"
            ]
          },
          "metadata": {
            "tags": []
          },
          "execution_count": 13
        },
        {
          "output_type": "display_data",
          "data": {
            "image/png": "[encoded data removed]",
            "text/plain": [
              "<Figure size 432x288 with 1 Axes>"
            ]
          },
          "metadata": {
            "tags": [],
            "needs_background": "light"
          }
        }
      ]
    },
    {
      "cell_type": "markdown",
      "metadata": {
        "id": "fz5bsWLNDTrH"
      },
      "source": [
        "The text is rather \"pure,\" in that does not have many instances of `&`, `#`, `<`, `>`, `[`, `]`, and `\\`. All the same, let's see the top \"impure\" posts:"
      ]
    },
    {
      "cell_type": "code",
      "metadata": {
        "colab": {
          "base_uri": "https://localhost:8080/",
          "height": 198
        },
        "id": "KH1yUWwMwN9T",
        "outputId": "6ac6606b-1075-40ec-ed73-2b42a2393e36"
      },
      "source": [
        "df[[\"text\", \"impurity\"]].sort_values(by=\"impurity\", ascending=False).head()"
      ],
      "execution_count": 14,
      "outputs": [
        {
          "output_type": "execute_result",
          "data": {
            "text/html": [
              "<div>\n",
              "<style scoped>\n",
              "    .dataframe tbody tr th:only-of-type {\n",
              "        vertical-align: middle;\n",
              "    }\n",
              "\n",
              "    .dataframe tbody tr th {\n",
              "        vertical-align: top;\n",
              "    }\n",
              "\n",
              "    .dataframe thead th {\n",
              "        text-align: right;\n",
              "    }\n",
              "</style>\n",
              "<table border=\"1\" class=\"dataframe\">\n",
              "  <thead>\n",
              "    <tr style=\"text-align: right;\">\n",
              "      <th></th>\n",
              "      <th>text</th>\n",
              "      <th>impurity</th>\n",
              "    </tr>\n",
              "  </thead>\n",
              "  <tbody>\n",
              "    <tr>\n",
              "      <th>163920</th>\n",
              "      <td>Victory Loves Preparation. &lt;3 &lt;3 &lt;3 &lt;3 &lt;3 &lt;3 &lt;...</td>\n",
              "      <td>0.160714</td>\n",
              "    </tr>\n",
              "    <tr>\n",
              "      <th>57863</th>\n",
              "      <td>Wayne #The #Truth #Against #The #Trolls #Lie...</td>\n",
              "      <td>0.133333</td>\n",
              "    </tr>\n",
              "    <tr>\n",
              "      <th>46784</th>\n",
              "      <td>Wayne #The #Truth #NOT #CHANNEL9 #Bias  #Ver...</td>\n",
              "      <td>0.120000</td>\n",
              "    </tr>\n",
              "    <tr>\n",
              "      <th>59190</th>\n",
              "      <td>Wayne #My #Answer to the #Lying #Fake #News ...</td>\n",
              "      <td>0.115385</td>\n",
              "    </tr>\n",
              "    <tr>\n",
              "      <th>84709</th>\n",
              "      <td>#peace #training #canada #saturday #freedom #m...</td>\n",
              "      <td>0.106061</td>\n",
              "    </tr>\n",
              "  </tbody>\n",
              "</table>\n",
              "</div>"
            ],
            "text/plain": [
              "                                                     text  impurity\n",
              "163920  Victory Loves Preparation. <3 <3 <3 <3 <3 <3 <...  0.160714\n",
              "57863     Wayne #The #Truth #Against #The #Trolls #Lie...  0.133333\n",
              "46784     Wayne #The #Truth #NOT #CHANNEL9 #Bias  #Ver...  0.120000\n",
              "59190     Wayne #My #Answer to the #Lying #Fake #News ...  0.115385\n",
              "84709   #peace #training #canada #saturday #freedom #m...  0.106061"
            ]
          },
          "metadata": {
            "tags": []
          },
          "execution_count": 14
        }
      ]
    },
    {
      "cell_type": "markdown",
      "metadata": {
        "id": "WyimB_jdD-h3"
      },
      "source": [
        "What do we think?"
      ]
    },
    {
      "cell_type": "markdown",
      "metadata": {
        "id": "l-FEtrbS-cUo"
      },
      "source": [
        "### Normalizing with Textacy\n",
        "\n",
        "Given how \"clean\" the text seems, we can move to normalizing with textacy as indicated in the text on p. 99. All of the available Textacy preprocessing functions are listed [on their API documentation website](https://textacy.readthedocs.io/en/latest/api_reference/preprocessing.html#replace).\n",
        "\n",
        "But first, let's solve the emoji problem so we can add a solution into the pipeline. Last week, we discussed how it seems wrong to just remove them. And even textacy proposes replacing any emoji with _EMOJI_. But maybe we can replace emoji with their unicode names."
      ]
    },
    {
      "cell_type": "code",
      "metadata": {
        "colab": {
          "base_uri": "https://localhost:8080/"
        },
        "id": "VwhJf50MB9m5",
        "outputId": "d0e3f2fe-4ff9-4b88-8173-497c23e13ee0"
      },
      "source": [
        "emoji = \"🤬\"\n",
        "\n",
        "# Every emoji has a unicode description:\n",
        "print(unicodedata.name(emoji))"
      ],
      "execution_count": 15,
      "outputs": [
        {
          "output_type": "stream",
          "text": [
            "SERIOUS FACE WITH SYMBOLS COVERING MOUTH\n"
          ],
          "name": "stdout"
        }
      ]
    },
    {
      "cell_type": "code",
      "metadata": {
        "colab": {
          "base_uri": "https://localhost:8080/",
          "height": 35
        },
        "id": "ftf3nQk3FBRG",
        "outputId": "d0f469c1-ee14-496b-ce4a-6f105edcd6c4"
      },
      "source": [
        "# We can use this function, then, with textacy's emoji replace function to replace the emoji.\n",
        "\n",
        "test_text = \"🤬 new lines, many lettering sets 爱, and even emoji 🤠\"\n",
        "tprep.replace.emojis(test_text, lambda reMatch: unicodedata.name(reMatch[0]))"
      ],
      "execution_count": 16,
      "outputs": [
        {
          "output_type": "execute_result",
          "data": {
            "application/vnd.google.colaboratory.intrinsic+json": {
              "type": "string"
            },
            "text/plain": [
              "'SERIOUS FACE WITH SYMBOLS COVERING MOUTH new lines, many lettering sets 爱, and even emoji FACE WITH COWBOY HAT'"
            ]
          },
          "metadata": {
            "tags": []
          },
          "execution_count": 16
        }
      ]
    },
    {
      "cell_type": "code",
      "metadata": {
        "id": "dDCMDooVCKbD"
      },
      "source": [
        "# So let's write a function we can perform in our normalization pipeline.\n",
        "\n",
        "def emoji_in_context(text):\n",
        "  try:\n",
        "    return tprep.replace.emojis(text, lambda reMatch: unicodedata.name(reMatch[0]))\n",
        "  except:\n",
        "    return \"_EMOJI_\""
      ],
      "execution_count": 17,
      "outputs": []
    },
    {
      "cell_type": "code",
      "metadata": {
        "id": "NP0Gb7SKwix0"
      },
      "source": [
        "# If Colab doesn't have Textacy installed:\n",
        "#!pip install textacy\n",
        "\n",
        "def normalize_pipeline(text, axis=1):\n",
        "  text = emoji_in_context(text)\n",
        "  text = re.sub(r\"[\\[\\](){}]\", \"\", text)\n",
        "  pipeline = tprep.make_pipeline(\n",
        "    tprep.normalize.repeating_chars,\n",
        "    tprep.normalize.quotation_marks,\n",
        "    tprep.remove.accents,\n",
        "    #tprep.remove.brackets, # Removes *content* inside [], {}, ()\n",
        "    tprep.replace.currency_symbols,\n",
        "    tprep.replace.urls,\n",
        "    tprep.replace.user_handles,\n",
        "    tprep.replace.emails,\n",
        "    tprep.replace.phone_numbers,\n",
        "    tprep.replace.numbers\n",
        "  )\n",
        "  return pipeline(text, chars=\".,!?\") # chars gets fed into tprep.normalize.repeating_chars\n",
        "\n",
        "df[\"normText\"] = df[\"text\"].apply(normalize_pipeline, axis=1)"
      ],
      "execution_count": 18,
      "outputs": []
    },
    {
      "cell_type": "code",
      "metadata": {
        "id": "DSDG0hn54N0f",
        "outputId": "00826b52-5b30-42a3-bf89-c1815b4b0b7e",
        "colab": {
          "base_uri": "https://localhost:8080/",
          "height": 403
        }
      },
      "source": [
        "df.head()"
      ],
      "execution_count": 19,
      "outputs": [
        {
          "output_type": "execute_result",
          "data": {
            "text/html": [
              "<div>\n",
              "<style scoped>\n",
              "    .dataframe tbody tr th:only-of-type {\n",
              "        vertical-align: middle;\n",
              "    }\n",
              "\n",
              "    .dataframe tbody tr th {\n",
              "        vertical-align: top;\n",
              "    }\n",
              "\n",
              "    .dataframe thead th {\n",
              "        text-align: right;\n",
              "    }\n",
              "</style>\n",
              "<table border=\"1\" class=\"dataframe\">\n",
              "  <thead>\n",
              "    <tr style=\"text-align: right;\">\n",
              "      <th></th>\n",
              "      <th>message</th>\n",
              "      <th>imageText</th>\n",
              "      <th>linkText</th>\n",
              "      <th>linkDescription</th>\n",
              "      <th>text</th>\n",
              "      <th>impurity</th>\n",
              "      <th>normText</th>\n",
              "    </tr>\n",
              "  </thead>\n",
              "  <tbody>\n",
              "    <tr>\n",
              "      <th>0</th>\n",
              "      <td>#ATTENTION Federal Election is Coming #QUESTIO...</td>\n",
              "      <td></td>\n",
              "      <td></td>\n",
              "      <td></td>\n",
              "      <td>#ATTENTION Federal Election is Coming #QUESTIO...</td>\n",
              "      <td>0.021898</td>\n",
              "      <td>#ATTENTION Federal Election is Coming #QUESTIO...</td>\n",
              "    </tr>\n",
              "    <tr>\n",
              "      <th>1</th>\n",
              "      <td>Doctors &amp; Nurses are disregarding sound medica...</td>\n",
              "      <td></td>\n",
              "      <td></td>\n",
              "      <td></td>\n",
              "      <td>Doctors &amp; Nurses are disregarding sound medica...</td>\n",
              "      <td>0.007905</td>\n",
              "      <td>Doctors &amp; Nurses are disregarding sound medica...</td>\n",
              "    </tr>\n",
              "    <tr>\n",
              "      <th>2</th>\n",
              "      <td>🤬</td>\n",
              "      <td></td>\n",
              "      <td>SouthernDude82</td>\n",
              "      <td>If your still in doubt that 2020 🦠 was planned...</td>\n",
              "      <td>🤬  SouthernDude82 If your still in doubt that ...</td>\n",
              "      <td>0.000000</td>\n",
              "      <td>SERIOUS FACE WITH SYMBOLS COVERING MOUTH  Sout...</td>\n",
              "    </tr>\n",
              "    <tr>\n",
              "      <th>3</th>\n",
              "      <td></td>\n",
              "      <td></td>\n",
              "      <td>VICE</td>\n",
              "      <td>“What is being built is the architecture of op...</td>\n",
              "      <td>VICE “What is being built is the architectur...</td>\n",
              "      <td>0.000000</td>\n",
              "      <td>VICE \"What is being built is the architectur...</td>\n",
              "    </tr>\n",
              "    <tr>\n",
              "      <th>4</th>\n",
              "      <td></td>\n",
              "      <td></td>\n",
              "      <td>WORLDWIDE RALLY FOR FREEDOM [MELBOURNE]</td>\n",
              "      <td>On March 20, 2021, we will stand side by side ...</td>\n",
              "      <td>WORLDWIDE RALLY FOR FREEDOM [MELBOURNE] On M...</td>\n",
              "      <td>0.004310</td>\n",
              "      <td>WORLDWIDE RALLY FOR FREEDOM MELBOURNE On Mar...</td>\n",
              "    </tr>\n",
              "  </tbody>\n",
              "</table>\n",
              "</div>"
            ],
            "text/plain": [
              "                                             message  ...                                           normText\n",
              "0  #ATTENTION Federal Election is Coming #QUESTIO...  ...  #ATTENTION Federal Election is Coming #QUESTIO...\n",
              "1  Doctors & Nurses are disregarding sound medica...  ...  Doctors & Nurses are disregarding sound medica...\n",
              "2                                                  🤬  ...  SERIOUS FACE WITH SYMBOLS COVERING MOUTH  Sout...\n",
              "3                                                     ...    VICE \"What is being built is the architectur...\n",
              "4                                                     ...    WORLDWIDE RALLY FOR FREEDOM MELBOURNE On Mar...\n",
              "\n",
              "[5 rows x 7 columns]"
            ]
          },
          "metadata": {
            "tags": []
          },
          "execution_count": 19
        }
      ]
    },
    {
      "cell_type": "markdown",
      "metadata": {
        "id": "iLA-US4yVkJT"
      },
      "source": [
        "### Data Masking\n",
        "\n",
        "Presumably, through the above normalizations, the data should be masked, and we can move on to doing linguistic processing."
      ]
    },
    {
      "cell_type": "markdown",
      "metadata": {
        "id": "BBPFVU4CVugT"
      },
      "source": [
        "## Linguistic Processing with spaCy\n",
        "\n",
        "Linguistic processing is made up of four parts:\n",
        "\n",
        "* Tokenization\n",
        "* Part of speech tagging\n",
        "* Lemmatization\n",
        "* Named-entity recognition"
      ]
    },
    {
      "cell_type": "code",
      "metadata": {
        "colab": {
          "base_uri": "https://localhost:8080/"
        },
        "id": "faTfMIjIQtnF",
        "outputId": "d9887fc3-e2a0-4add-afbb-7629a7050986"
      },
      "source": [
        "spacy.cli.download(\"en_core_web_sm\")\n",
        "nlp = spacy.load(\"en_core_web_sm\")"
      ],
      "execution_count": null,
      "outputs": [
        {
          "output_type": "stream",
          "text": [
            "\u001b[38;5;2m✔ Download and installation successful\u001b[0m\n",
            "You can now load the package via spacy.load('en_core_web_sm')\n"
          ],
          "name": "stdout"
        }
      ]
    },
    {
      "cell_type": "code",
      "metadata": {
        "id": "T_7_W6NiRAHC"
      },
      "source": [
        "sample = df.sample(100)\n",
        "sample[\"spacyDoc\"] = sample[\"normText\"].apply(nlp)"
      ],
      "execution_count": null,
      "outputs": []
    },
    {
      "cell_type": "code",
      "metadata": {
        "id": "PwRSrIUVXf7k"
      },
      "source": [
        ""
      ],
      "execution_count": null,
      "outputs": []
    }
  ]
}